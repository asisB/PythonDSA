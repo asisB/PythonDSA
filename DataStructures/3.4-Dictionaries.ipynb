{
 "cells": [
  {
   "cell_type": "markdown",
   "metadata": {},
   "source": [
    "#### Dictionaries\n",
    "Video Outline:\n",
    "1. Introduction to Dictionaries\n",
    "2. Creating Dictionaries\n",
    "3. Accessing Dictionary Elements\n",
    "4. Modifying Dictionary Elements\n",
    "5. Dictionary Methods\n",
    "6. Iterating Over Dictionaries\n",
    "7. Nested Dictionaries\n",
    "8. Dictionary Comprehensions\n",
    "9. Practical Examples and Common Errors"
   ]
  },
  {
   "cell_type": "markdown",
   "metadata": {},
   "source": [
    "##### Introduction to Dictionaries\n",
    "\n",
    "Dictionaries are unordered collections of items. They store data in key-value pairs.\n",
    "Keys must be unique and immutable (e.g., strings, numbers, or tuples), while values can be of any type."
   ]
  },
  {
   "cell_type": "code",
   "execution_count": 1,
   "metadata": {},
   "outputs": [
    {
     "name": "stdout",
     "output_type": "stream",
     "text": [
      "<class 'dict'>\n"
     ]
    }
   ],
   "source": [
    "## Creating Dictionaries\n",
    "empty_dict={}\n",
    "print(type(empty_dict))"
   ]
  },
  {
   "cell_type": "code",
   "execution_count": 1,
   "metadata": {},
   "outputs": [
    {
     "name": "stdout",
     "output_type": "stream",
     "text": [
      "<class 'dict'>\n"
     ]
    }
   ],
   "source": [
    "dicts={}\n",
    "print(type(dicts))"
   ]
  },
  {
   "cell_type": "code",
   "execution_count": 2,
   "metadata": {},
   "outputs": [
    {
     "data": {
      "text/plain": [
       "{}"
      ]
     },
     "execution_count": 2,
     "metadata": {},
     "output_type": "execute_result"
    }
   ],
   "source": [
    "dicts=dict()\n",
    "dicts"
   ]
  },
  {
   "cell_type": "code",
   "execution_count": 16,
   "metadata": {},
   "outputs": [
    {
     "name": "stdout",
     "output_type": "stream",
     "text": [
      "{'name': 'Harry', 'age': 32, 'title': 'Developer'}\n",
      "<class 'dict'>\n"
     ]
    }
   ],
   "source": [
    "employees={\"name\": \"Harry\", \"age\": 32, \"title\": \"Developer\"}\n",
    "print(employees)\n",
    "print(type(employees))"
   ]
  },
  {
   "cell_type": "code",
   "execution_count": 17,
   "metadata": {},
   "outputs": [
    {
     "name": "stdout",
     "output_type": "stream",
     "text": [
      "{'name': 'Harry', 'age': 32, 'project': 'Construction'}\n"
     ]
    }
   ],
   "source": [
    "employees={\"name\": \"Harry\", \"age\": 32, \"project\": \"Construction\"}\n",
    "print(employees)"
   ]
  },
  {
   "cell_type": "code",
   "execution_count": 18,
   "metadata": {},
   "outputs": [
    {
     "name": "stdout",
     "output_type": "stream",
     "text": [
      "Construction\n",
      "32\n",
      "None\n",
      "None\n",
      "Not Available\n"
     ]
    }
   ],
   "source": [
    "print(employees['project'])\n",
    "print(employees['age'])\n",
    "\n",
    "print(employees.get('title'))\n",
    "print(employees.get('last_name'))\n",
    "print(employees.get('last_name', \"Not Available\"))"
   ]
  },
  {
   "cell_type": "code",
   "execution_count": 19,
   "metadata": {},
   "outputs": [
    {
     "name": "stdout",
     "output_type": "stream",
     "text": [
      "{'name': 'Harry', 'age': 32, 'project': 'Construction'}\n"
     ]
    }
   ],
   "source": [
    "## Modifying Dicitonary Elements\n",
    "## Dictionary are mutable,so you can add, update or delete elements\n",
    "print(employees)"
   ]
  },
  {
   "cell_type": "code",
   "execution_count": 21,
   "metadata": {},
   "outputs": [
    {
     "name": "stdout",
     "output_type": "stream",
     "text": [
      "{'name': 'Harry', 'age': 34, 'project': 'Construction', 'address': 'England'}\n",
      "{'name': 'Harry', 'age': 34, 'project': 'Construction', 'address': 'England'}\n"
     ]
    }
   ],
   "source": [
    "employees['age'] = 34 ##update value for the key\n",
    "print(employees)\n",
    "employees[\"address\"]=\"England\" ## added a new key and value\n",
    "print(employees)"
   ]
  },
  {
   "cell_type": "code",
   "execution_count": 22,
   "metadata": {},
   "outputs": [
    {
     "name": "stdout",
     "output_type": "stream",
     "text": [
      "{'name': 'Harry', 'age': 34, 'project': 'Construction'}\n"
     ]
    }
   ],
   "source": [
    "del employees['address']  ## delete key and value pair\n",
    "print(employees)"
   ]
  },
  {
   "cell_type": "code",
   "execution_count": 23,
   "metadata": {},
   "outputs": [
    {
     "name": "stdout",
     "output_type": "stream",
     "text": [
      "dict_keys(['name', 'age', 'project'])\n",
      "dict_values(['Harry', 34, 'Construction'])\n",
      "dict_items([('name', 'Harry'), ('age', 34), ('project', 'Construction')])\n"
     ]
    }
   ],
   "source": [
    "## Dictionary methods\n",
    "keys=employees.keys()  ##get all the keys\n",
    "print(keys)\n",
    "values=employees.values() ##get all values\n",
    "print(values)\n",
    "\n",
    "items=employees.items() ##get all key value pairs\n",
    "print(items)\n"
   ]
  },
  {
   "cell_type": "code",
   "execution_count": 24,
   "metadata": {},
   "outputs": [
    {
     "name": "stdout",
     "output_type": "stream",
     "text": [
      "{'name': 'Harry', 'age': 34, 'project': 'Construction'}\n",
      "{'name': 'Harry', 'age': 34, 'project': 'Construction'}\n"
     ]
    }
   ],
   "source": [
    "## shallow copy \n",
    "employees_copy=employees\n",
    "print(employees)\n",
    "print(employees_copy)"
   ]
  },
  {
   "cell_type": "code",
   "execution_count": 25,
   "metadata": {},
   "outputs": [
    {
     "name": "stdout",
     "output_type": "stream",
     "text": [
      "{'name': 'Marry', 'age': 34, 'project': 'Construction'}\n",
      "{'name': 'Marry', 'age': 34, 'project': 'Construction'}\n"
     ]
    }
   ],
   "source": [
    "employees[\"name\"]=\"Marry\"\n",
    "print(employees)\n",
    "print(employees_copy)\n"
   ]
  },
  {
   "cell_type": "code",
   "execution_count": 27,
   "metadata": {},
   "outputs": [
    {
     "name": "stdout",
     "output_type": "stream",
     "text": [
      "{'name': 'Marry', 'age': 34, 'project': 'Construction'}\n",
      "{'name': 'Marry', 'age': 34, 'project': 'Construction'}\n"
     ]
    }
   ],
   "source": [
    "employees_copy1 = employees.copy() ## shallow copy\n",
    "print(employees_copy1)\n",
    "print(employees)"
   ]
  },
  {
   "cell_type": "code",
   "execution_count": 28,
   "metadata": {},
   "outputs": [
    {
     "name": "stdout",
     "output_type": "stream",
     "text": [
      "{'name': 'Saint', 'age': 34, 'project': 'Construction'}\n",
      "{'name': 'Saint', 'age': 34, 'project': 'Construction'}\n"
     ]
    }
   ],
   "source": [
    "employees[\"name\"]=\"Saint\"\n",
    "print(employees_copy)\n",
    "print(employees)"
   ]
  },
  {
   "cell_type": "code",
   "execution_count": 29,
   "metadata": {},
   "outputs": [
    {
     "name": "stdout",
     "output_type": "stream",
     "text": [
      "name\n",
      "age\n",
      "project\n"
     ]
    }
   ],
   "source": [
    "### Iterating Over Dictionaries\n",
    "## You can use loops to iterate over dictionatries, keys,values,or items\n",
    "\n",
    "## Iterating over keys\n",
    "for keys in employees.keys(): \n",
    "    print(keys)"
   ]
  },
  {
   "cell_type": "code",
   "execution_count": 30,
   "metadata": {},
   "outputs": [
    {
     "name": "stdout",
     "output_type": "stream",
     "text": [
      "Saint\n",
      "34\n",
      "Construction\n"
     ]
    }
   ],
   "source": [
    "## Iterate over values\n",
    "for value in employees.values():\n",
    "    print(value)"
   ]
  },
  {
   "cell_type": "code",
   "execution_count": 29,
   "metadata": {},
   "outputs": [
    {
     "name": "stdout",
     "output_type": "stream",
     "text": [
      "name:KRish3\n",
      "age:33\n",
      "address:India\n"
     ]
    }
   ],
   "source": [
    "## Iterate over key value pairs\n",
    "for key,value in student.items():\n",
    "    print(f\"{key}:{value}\")"
   ]
  },
  {
   "cell_type": "code",
   "execution_count": 32,
   "metadata": {},
   "outputs": [
    {
     "name": "stdout",
     "output_type": "stream",
     "text": [
      "name:Saint\n",
      "age:34\n",
      "project:Construction\n"
     ]
    }
   ],
   "source": [
    "## Iterate over key value pairs\n",
    "for key,value in employees.items():\n",
    "    print(f\"{key}:{value}\")"
   ]
  },
  {
   "cell_type": "code",
   "execution_count": 33,
   "metadata": {},
   "outputs": [
    {
     "name": "stdout",
     "output_type": "stream",
     "text": [
      "{'employees1': {'name': 'Jenisha', 'age': 29}, 'employees2': {'name': 'Peter', 'age': 28}}\n"
     ]
    }
   ],
   "source": [
    "## Nested Disctionaries\n",
    "employees={\n",
    "    \"employees1\":{\"name\":\"Jenisha\",\"age\": 29},\n",
    "    \"employees2\":{\"name\":\"Peter\",\"age\": 28},\n",
    "\n",
    "}\n",
    "print(employees)"
   ]
  },
  {
   "cell_type": "code",
   "execution_count": 34,
   "metadata": {},
   "outputs": [
    {
     "name": "stdout",
     "output_type": "stream",
     "text": [
      "Peter\n",
      "28\n"
     ]
    }
   ],
   "source": [
    "## Access nested dictionaries elementss\n",
    "print(employees[\"employees2\"]['name'])\n",
    "print(employees[\"employees2\"]['age'])"
   ]
  },
  {
   "cell_type": "code",
   "execution_count": 35,
   "metadata": {},
   "outputs": [
    {
     "data": {
      "text/plain": [
       "dict_items([('employees1', {'name': 'Jenisha', 'age': 29}), ('employees2', {'name': 'Peter', 'age': 28})])"
      ]
     },
     "execution_count": 35,
     "metadata": {},
     "output_type": "execute_result"
    }
   ],
   "source": [
    "employees.items()"
   ]
  },
  {
   "cell_type": "code",
   "execution_count": 40,
   "metadata": {},
   "outputs": [
    {
     "name": "stdout",
     "output_type": "stream",
     "text": [
      "employees1:{'name': 'Jenisha', 'age': 29}\n",
      "name:dict_values(['Saint', 34, 'Construction'])\n",
      "age:dict_values(['Saint', 34, 'Construction'])\n",
      "employees2:{'name': 'Peter', 'age': 28}\n",
      "name:dict_values(['Saint', 34, 'Construction'])\n",
      "age:dict_values(['Saint', 34, 'Construction'])\n"
     ]
    }
   ],
   "source": [
    "## Iterating over nested dictionaries\n",
    "for employees_id,employees_info in employees.items():\n",
    "    print(f\"{employees_id}:{employees_info}\")\n",
    "    for key,value in employees_info.items():\n",
    "        print(f\"{key}:{values}\")"
   ]
  },
  {
   "cell_type": "code",
   "execution_count": 38,
   "metadata": {},
   "outputs": [
    {
     "name": "stdout",
     "output_type": "stream",
     "text": [
      "{0: 0, 1: 1, 2: 4, 3: 9, 4: 16}\n"
     ]
    }
   ],
   "source": [
    "## Dictionary Comphrehension\n",
    "squares={x:x**2 for x in range(5)}\n",
    "print(squares)"
   ]
  },
  {
   "cell_type": "code",
   "execution_count": 39,
   "metadata": {},
   "outputs": [
    {
     "name": "stdout",
     "output_type": "stream",
     "text": [
      "{0: 0, 2: 4, 4: 16, 6: 36, 8: 64}\n"
     ]
    }
   ],
   "source": [
    "## Condition dictionary comprehension\n",
    "evens={x:x**2 for x in range(10) if x%2==0}\n",
    "print(evens)"
   ]
  },
  {
   "cell_type": "code",
   "execution_count": 41,
   "metadata": {},
   "outputs": [
    {
     "name": "stdout",
     "output_type": "stream",
     "text": [
      "{1: 1, 2: 2, 3: 1, 4: 3, 5: 3}\n"
     ]
    }
   ],
   "source": [
    "## Practical Examples\n",
    "\n",
    "## USe a dictionary to count the frequency of elements in list\n",
    "numbers=[1,2,2,3,4,4,4,5,5,5]\n",
    "freq={}\n",
    "\n",
    "for number in numbers:\n",
    "    if number in freq: \n",
    "        freq[number]+=1\n",
    "    else:\n",
    "        freq[number]=1\n",
    "print(freq)\n"
   ]
  },
  {
   "cell_type": "code",
   "execution_count": 38,
   "metadata": {},
   "outputs": [
    {
     "name": "stdout",
     "output_type": "stream",
     "text": [
      "{'a': 1, 'b': 3, 'c': 4}\n"
     ]
    }
   ],
   "source": [
    "## Merge 2 dictionaries into one\n",
    "##** is used as a key value which gonna take and append in the dictionary i.e. keywords argument: any value that is form in key value pairs\n",
    "\n",
    "dict1={\"a\":1,\"b\":2}\n",
    "dict2={\"b\":3,\"c\":4}\n",
    "merged_dict={**dict1,**dict2}\n",
    "print(merged_dict)"
   ]
  },
  {
   "cell_type": "markdown",
   "metadata": {},
   "source": [
    "#### Conclusion\n",
    "Dictionaries are powerful tools in Python for managing key-value pairs. They are used in a variety of real-world scenarios, such as counting word frequency, grouping data, storing configuration settings, managing phonebooks, tracking inventory, and caching results. Understanding how to leverage dictionaries effectively can greatly enhance the efficiency and readability of your code."
   ]
  },
  {
   "cell_type": "code",
   "execution_count": null,
   "metadata": {},
   "outputs": [],
   "source": []
  }
 ],
 "metadata": {
  "kernelspec": {
   "display_name": "Python 3",
   "language": "python",
   "name": "python3"
  },
  "language_info": {
   "codemirror_mode": {
    "name": "ipython",
    "version": 3
   },
   "file_extension": ".py",
   "mimetype": "text/x-python",
   "name": "python",
   "nbconvert_exporter": "python",
   "pygments_lexer": "ipython3",
   "version": "3.12.9"
  }
 },
 "nbformat": 4,
 "nbformat_minor": 2
}
